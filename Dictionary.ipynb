{
 "cells": [
  {
   "cell_type": "code",
   "execution_count": 6,
   "id": "233d584f",
   "metadata": {},
   "outputs": [],
   "source": [
    "d = {}"
   ]
  },
  {
   "cell_type": "code",
   "execution_count": 7,
   "id": "5c8ff240",
   "metadata": {},
   "outputs": [
    {
     "data": {
      "text/plain": [
       "dict"
      ]
     },
     "execution_count": 7,
     "metadata": {},
     "output_type": "execute_result"
    }
   ],
   "source": [
    "type(d)"
   ]
  },
  {
   "cell_type": "code",
   "execution_count": 8,
   "id": "330d9874",
   "metadata": {},
   "outputs": [],
   "source": [
    "d1 = {1,2,3}"
   ]
  },
  {
   "cell_type": "code",
   "execution_count": 9,
   "id": "778134e0",
   "metadata": {},
   "outputs": [
    {
     "data": {
      "text/plain": [
       "set"
      ]
     },
     "execution_count": 9,
     "metadata": {},
     "output_type": "execute_result"
    }
   ],
   "source": [
    "type(d1)"
   ]
  },
  {
   "cell_type": "code",
   "execution_count": 10,
   "id": "b9a5620e",
   "metadata": {},
   "outputs": [],
   "source": [
    "d2 = {\"key1\": \"abhi\", \"key2\": [1,2,3]}"
   ]
  },
  {
   "cell_type": "code",
   "execution_count": 11,
   "id": "6428edc5",
   "metadata": {},
   "outputs": [
    {
     "data": {
      "text/plain": [
       "{'key1': 'abhi', 'key2': [1, 2, 3]}"
      ]
     },
     "execution_count": 11,
     "metadata": {},
     "output_type": "execute_result"
    }
   ],
   "source": [
    "d2"
   ]
  },
  {
   "cell_type": "code",
   "execution_count": 12,
   "id": "9a4aa2f5",
   "metadata": {},
   "outputs": [],
   "source": [
    "d2 = {12345:\"abhi\", 100:123}"
   ]
  },
  {
   "cell_type": "code",
   "execution_count": 13,
   "id": "2c2d0e5d",
   "metadata": {},
   "outputs": [
    {
     "data": {
      "text/plain": [
       "{12345: 'abhi', 100: 123}"
      ]
     },
     "execution_count": 13,
     "metadata": {},
     "output_type": "execute_result"
    }
   ],
   "source": [
    "d2"
   ]
  },
  {
   "cell_type": "code",
   "execution_count": 14,
   "id": "70b52565",
   "metadata": {},
   "outputs": [
    {
     "ename": "TypeError",
     "evalue": "unhashable type: 'list'",
     "output_type": "error",
     "traceback": [
      "\u001b[1;31m---------------------------------------------------------------------------\u001b[0m",
      "\u001b[1;31mTypeError\u001b[0m                                 Traceback (most recent call last)",
      "Input \u001b[1;32mIn [14]\u001b[0m, in \u001b[0;36m<cell line: 1>\u001b[1;34m()\u001b[0m\n\u001b[1;32m----> 1\u001b[0m d3 \u001b[38;5;241m=\u001b[39m {[\u001b[38;5;241m1\u001b[39m,\u001b[38;5;241m2\u001b[39m,\u001b[38;5;241m3\u001b[39m]: \u001b[38;5;124m\"\u001b[39m\u001b[38;5;124mabhi\u001b[39m\u001b[38;5;124m\"\u001b[39m}\n",
      "\u001b[1;31mTypeError\u001b[0m: unhashable type: 'list'"
     ]
    }
   ],
   "source": [
    "d3 = {[1,2,3]: \"abhi\"}"
   ]
  },
  {
   "cell_type": "code",
   "execution_count": 15,
   "id": "a856d60f",
   "metadata": {},
   "outputs": [],
   "source": [
    "# List can not work as a key"
   ]
  },
  {
   "cell_type": "code",
   "execution_count": 16,
   "id": "5e560783",
   "metadata": {},
   "outputs": [],
   "source": [
    "d4 = {(1,2,3): \"abhi\"}"
   ]
  },
  {
   "cell_type": "code",
   "execution_count": 17,
   "id": "03cb56c6",
   "metadata": {},
   "outputs": [
    {
     "data": {
      "text/plain": [
       "{(1, 2, 3): 'abhi'}"
      ]
     },
     "execution_count": 17,
     "metadata": {},
     "output_type": "execute_result"
    }
   ],
   "source": [
    "d4"
   ]
  },
  {
   "cell_type": "code",
   "execution_count": 18,
   "id": "bf16cc8c",
   "metadata": {},
   "outputs": [],
   "source": [
    "# Tuple can be used as a key"
   ]
  },
  {
   "cell_type": "code",
   "execution_count": 19,
   "id": "28aa56ba",
   "metadata": {},
   "outputs": [
    {
     "ename": "SyntaxError",
     "evalue": "invalid syntax (1794268395.py, line 1)",
     "output_type": "error",
     "traceback": [
      "\u001b[1;36m  Input \u001b[1;32mIn [19]\u001b[1;36m\u001b[0m\n\u001b[1;33m    d5= {$: \"abhi\"}\u001b[0m\n\u001b[1;37m         ^\u001b[0m\n\u001b[1;31mSyntaxError\u001b[0m\u001b[1;31m:\u001b[0m invalid syntax\n"
     ]
    }
   ],
   "source": [
    "d5= {$: \"abhi\"}"
   ]
  },
  {
   "cell_type": "code",
   "execution_count": 20,
   "id": "8dcf71ed",
   "metadata": {},
   "outputs": [],
   "source": [
    "# Special chraracter can not be used as a key"
   ]
  },
  {
   "cell_type": "code",
   "execution_count": 21,
   "id": "1af166ac",
   "metadata": {},
   "outputs": [],
   "source": [
    "d5 = {\"name\":\"abhi\",\"class\": 10, \"email\": \"abhi@gmail.com\"}"
   ]
  },
  {
   "cell_type": "code",
   "execution_count": 22,
   "id": "2a2bb6a6",
   "metadata": {},
   "outputs": [
    {
     "data": {
      "text/plain": [
       "{'name': 'abhi', 'class': 10, 'email': 'abhi@gmail.com'}"
      ]
     },
     "execution_count": 22,
     "metadata": {},
     "output_type": "execute_result"
    }
   ],
   "source": [
    "d5"
   ]
  },
  {
   "cell_type": "code",
   "execution_count": 23,
   "id": "bccc50f7",
   "metadata": {},
   "outputs": [],
   "source": [
    "d6 = {\"key1\": \"abhi\", \"key2\": 123, \"key1\":\"mohan\"}"
   ]
  },
  {
   "cell_type": "code",
   "execution_count": 24,
   "id": "13fb72d2",
   "metadata": {},
   "outputs": [
    {
     "data": {
      "text/plain": [
       "{'key1': 'mohan', 'key2': 123}"
      ]
     },
     "execution_count": 24,
     "metadata": {},
     "output_type": "execute_result"
    }
   ],
   "source": [
    "d6"
   ]
  },
  {
   "cell_type": "code",
   "execution_count": 25,
   "id": "679dfc58",
   "metadata": {},
   "outputs": [],
   "source": [
    "# If the key is repeated, the latest value is stored in it."
   ]
  },
  {
   "cell_type": "code",
   "execution_count": 26,
   "id": "1d989d52",
   "metadata": {},
   "outputs": [],
   "source": [
    "d7 = {\"key1\":\"abhi\", \"key2\":123, \"key3\":\"abhi\"}"
   ]
  },
  {
   "cell_type": "code",
   "execution_count": 27,
   "id": "6c027528",
   "metadata": {},
   "outputs": [
    {
     "data": {
      "text/plain": [
       "{'key1': 'abhi', 'key2': 123, 'key3': 'abhi'}"
      ]
     },
     "execution_count": 27,
     "metadata": {},
     "output_type": "execute_result"
    }
   ],
   "source": [
    "d7"
   ]
  },
  {
   "cell_type": "code",
   "execution_count": 29,
   "id": "6c597615",
   "metadata": {},
   "outputs": [],
   "source": [
    "# The values can be repeated for different keys,\n",
    "# but keys can not be repeted for different values"
   ]
  },
  {
   "cell_type": "code",
   "execution_count": 39,
   "id": "905936c3",
   "metadata": {},
   "outputs": [],
   "source": [
    "d8 = {\"name\":\"abhi\", 123:{\"city\": \"delhi\", 456:{\"area\": \"xyz\"}}}"
   ]
  },
  {
   "cell_type": "code",
   "execution_count": 40,
   "id": "34ca07a5",
   "metadata": {},
   "outputs": [
    {
     "data": {
      "text/plain": [
       "{'name': 'abhi', 123: {'city': 'delhi', 456: {'area': 'xyz'}}}"
      ]
     },
     "execution_count": 40,
     "metadata": {},
     "output_type": "execute_result"
    }
   ],
   "source": [
    "d8"
   ]
  },
  {
   "cell_type": "code",
   "execution_count": 41,
   "id": "71137ff2",
   "metadata": {},
   "outputs": [
    {
     "data": {
      "text/plain": [
       "{'city': 'delhi', 456: {'area': 'xyz'}}"
      ]
     },
     "execution_count": 41,
     "metadata": {},
     "output_type": "execute_result"
    }
   ],
   "source": [
    "d8[123]"
   ]
  },
  {
   "cell_type": "code",
   "execution_count": 44,
   "id": "2c22d95c",
   "metadata": {},
   "outputs": [
    {
     "ename": "KeyError",
     "evalue": "'city'",
     "output_type": "error",
     "traceback": [
      "\u001b[1;31m---------------------------------------------------------------------------\u001b[0m",
      "\u001b[1;31mKeyError\u001b[0m                                  Traceback (most recent call last)",
      "Input \u001b[1;32mIn [44]\u001b[0m, in \u001b[0;36m<cell line: 1>\u001b[1;34m()\u001b[0m\n\u001b[1;32m----> 1\u001b[0m \u001b[43md8\u001b[49m\u001b[43m[\u001b[49m\u001b[38;5;124;43m\"\u001b[39;49m\u001b[38;5;124;43mcity\u001b[39;49m\u001b[38;5;124;43m\"\u001b[39;49m\u001b[43m]\u001b[49m\n",
      "\u001b[1;31mKeyError\u001b[0m: 'city'"
     ]
    }
   ],
   "source": [
    "d8[\"city\"]"
   ]
  },
  {
   "cell_type": "code",
   "execution_count": 45,
   "id": "a8b1e7d6",
   "metadata": {},
   "outputs": [
    {
     "data": {
      "text/plain": [
       "'delhi'"
      ]
     },
     "execution_count": 45,
     "metadata": {},
     "output_type": "execute_result"
    }
   ],
   "source": [
    "d8[123][\"city\"]"
   ]
  },
  {
   "cell_type": "code",
   "execution_count": 46,
   "id": "9ffbeb8f",
   "metadata": {},
   "outputs": [
    {
     "data": {
      "text/plain": [
       "{'area': 'xyz'}"
      ]
     },
     "execution_count": 46,
     "metadata": {},
     "output_type": "execute_result"
    }
   ],
   "source": [
    "d8[123][456]"
   ]
  },
  {
   "cell_type": "code",
   "execution_count": 47,
   "id": "180bcfa4",
   "metadata": {},
   "outputs": [
    {
     "data": {
      "text/plain": [
       "'xyz'"
      ]
     },
     "execution_count": 47,
     "metadata": {},
     "output_type": "execute_result"
    }
   ],
   "source": [
    "d8[123][456][\"area\"]"
   ]
  },
  {
   "cell_type": "code",
   "execution_count": 48,
   "id": "f2c8d73f",
   "metadata": {},
   "outputs": [
    {
     "data": {
      "text/plain": [
       "dict_keys(['name', 123])"
      ]
     },
     "execution_count": 48,
     "metadata": {},
     "output_type": "execute_result"
    }
   ],
   "source": [
    "d8.keys()"
   ]
  },
  {
   "cell_type": "code",
   "execution_count": 49,
   "id": "370ee0ce",
   "metadata": {},
   "outputs": [
    {
     "data": {
      "text/plain": [
       "['name', 123]"
      ]
     },
     "execution_count": 49,
     "metadata": {},
     "output_type": "execute_result"
    }
   ],
   "source": [
    "list(d8.keys())"
   ]
  },
  {
   "cell_type": "code",
   "execution_count": 50,
   "id": "c8aa9dea",
   "metadata": {},
   "outputs": [
    {
     "data": {
      "text/plain": [
       "dict_values(['abhi', {'city': 'delhi', 456: {'area': 'xyz'}}])"
      ]
     },
     "execution_count": 50,
     "metadata": {},
     "output_type": "execute_result"
    }
   ],
   "source": [
    "d8.values()"
   ]
  },
  {
   "cell_type": "code",
   "execution_count": 51,
   "id": "31c151ec",
   "metadata": {},
   "outputs": [
    {
     "data": {
      "text/plain": [
       "['abhi', {'city': 'delhi', 456: {'area': 'xyz'}}]"
      ]
     },
     "execution_count": 51,
     "metadata": {},
     "output_type": "execute_result"
    }
   ],
   "source": [
    "list(d8.values())"
   ]
  },
  {
   "cell_type": "code",
   "execution_count": 52,
   "id": "933487d6",
   "metadata": {},
   "outputs": [
    {
     "data": {
      "text/plain": [
       "dict_items([('name', 'abhi'), (123, {'city': 'delhi', 456: {'area': 'xyz'}})])"
      ]
     },
     "execution_count": 52,
     "metadata": {},
     "output_type": "execute_result"
    }
   ],
   "source": [
    "d8.items()"
   ]
  },
  {
   "cell_type": "code",
   "execution_count": 53,
   "id": "fc8b7f64",
   "metadata": {},
   "outputs": [
    {
     "data": {
      "text/plain": [
       "{'name': 'abhi', 123: {'city': 'delhi', 456: {'area': 'xyz'}}}"
      ]
     },
     "execution_count": 53,
     "metadata": {},
     "output_type": "execute_result"
    }
   ],
   "source": [
    "d8"
   ]
  },
  {
   "cell_type": "code",
   "execution_count": 54,
   "id": "2c668847",
   "metadata": {},
   "outputs": [
    {
     "data": {
      "text/plain": [
       "dict_values(['xyz'])"
      ]
     },
     "execution_count": 54,
     "metadata": {},
     "output_type": "execute_result"
    }
   ],
   "source": [
    "d8[123][456].values()"
   ]
  },
  {
   "cell_type": "code",
   "execution_count": 55,
   "id": "68452529",
   "metadata": {},
   "outputs": [
    {
     "data": {
      "text/plain": [
       "['xyz']"
      ]
     },
     "execution_count": 55,
     "metadata": {},
     "output_type": "execute_result"
    }
   ],
   "source": [
    "list(d8[123][456].values())"
   ]
  },
  {
   "cell_type": "code",
   "execution_count": 56,
   "id": "44447612",
   "metadata": {},
   "outputs": [],
   "source": [
    "# Problem:- In a dictionary, For every values which is in dictionary extract them into a list."
   ]
  },
  {
   "cell_type": "code",
   "execution_count": 2,
   "id": "372a3058",
   "metadata": {},
   "outputs": [],
   "source": [
    "d9 = {\"name\": \"abhi\", \"mentor\": {\"fsds\": \"imran\", \"fsda\":\"anand\"}, \"email_id\": {\"imran\":\"imran@gmail.com\", \"anand\": \"anand@gmail.com\"} }"
   ]
  },
  {
   "cell_type": "code",
   "execution_count": 59,
   "id": "3ecbc15b",
   "metadata": {},
   "outputs": [
    {
     "data": {
      "text/plain": [
       "{'name': 'abhi',\n",
       " 'mentor': {'fsds': 'imran', 'fsda': 'anand'},\n",
       " 'email_id': {'imran': 'imran@gmail.com', 'anand': 'anand@gmail.com'}}"
      ]
     },
     "execution_count": 59,
     "metadata": {},
     "output_type": "execute_result"
    }
   ],
   "source": [
    "d9"
   ]
  },
  {
   "cell_type": "code",
   "execution_count": 60,
   "id": "6d3768a1",
   "metadata": {},
   "outputs": [],
   "source": [
    "# Method-1"
   ]
  },
  {
   "cell_type": "code",
   "execution_count": 63,
   "id": "8ebd7474",
   "metadata": {},
   "outputs": [
    {
     "data": {
      "text/plain": [
       "['imran', 'anand', 'imran@gmail.com', 'anand@gmail.com']"
      ]
     },
     "execution_count": 63,
     "metadata": {},
     "output_type": "execute_result"
    }
   ],
   "source": [
    "list(d9[\"mentor\"].values()) + list(d9[\"email_id\"].values())"
   ]
  },
  {
   "cell_type": "code",
   "execution_count": 64,
   "id": "c65f63b7",
   "metadata": {},
   "outputs": [],
   "source": [
    "#Method-2"
   ]
  },
  {
   "cell_type": "code",
   "execution_count": 67,
   "id": "957456d9",
   "metadata": {},
   "outputs": [],
   "source": [
    "l = []\n",
    "for i in d9.keys():\n",
    "    if type(d9[i])== dict:\n",
    "        l.append(list((d9[i].values())))"
   ]
  },
  {
   "cell_type": "code",
   "execution_count": 68,
   "id": "0bfecf6e",
   "metadata": {},
   "outputs": [
    {
     "data": {
      "text/plain": [
       "[['imran', 'anand'], ['imran@gmail.com', 'anand@gmail.com']]"
      ]
     },
     "execution_count": 68,
     "metadata": {},
     "output_type": "execute_result"
    }
   ],
   "source": [
    "l"
   ]
  },
  {
   "cell_type": "code",
   "execution_count": 69,
   "id": "9763d5d8",
   "metadata": {},
   "outputs": [],
   "source": [
    "# Try to convert this into a finction"
   ]
  },
  {
   "cell_type": "code",
   "execution_count": 70,
   "id": "845ec402",
   "metadata": {},
   "outputs": [],
   "source": [
    "def demo(d):\n",
    "    l = []\n",
    "    for i in d.keys():\n",
    "        if type(d[i])== dict:\n",
    "            l.append(list((d[i].values())))\n",
    "    return l"
   ]
  },
  {
   "cell_type": "code",
   "execution_count": 71,
   "id": "9d04267f",
   "metadata": {},
   "outputs": [
    {
     "data": {
      "text/plain": [
       "[['imran', 'anand'], ['imran@gmail.com', 'anand@gmail.com']]"
      ]
     },
     "execution_count": 71,
     "metadata": {},
     "output_type": "execute_result"
    }
   ],
   "source": [
    "demo(d9)"
   ]
  },
  {
   "cell_type": "code",
   "execution_count": 72,
   "id": "a5b46c41",
   "metadata": {},
   "outputs": [],
   "source": [
    "# TO add a new key-value pair into the dictionary"
   ]
  },
  {
   "cell_type": "code",
   "execution_count": 73,
   "id": "3671f4c9",
   "metadata": {},
   "outputs": [
    {
     "data": {
      "text/plain": [
       "{'key1': 'abhi', 'key2': 123, 'key3': 'abhi'}"
      ]
     },
     "execution_count": 73,
     "metadata": {},
     "output_type": "execute_result"
    }
   ],
   "source": [
    "d7"
   ]
  },
  {
   "cell_type": "code",
   "execution_count": 74,
   "id": "bd6f9aa1",
   "metadata": {},
   "outputs": [],
   "source": [
    "d7[\"key4\"] = 456"
   ]
  },
  {
   "cell_type": "code",
   "execution_count": 75,
   "id": "0edcba84",
   "metadata": {},
   "outputs": [
    {
     "data": {
      "text/plain": [
       "{'key1': 'abhi', 'key2': 123, 'key3': 'abhi', 'key4': 456}"
      ]
     },
     "execution_count": 75,
     "metadata": {},
     "output_type": "execute_result"
    }
   ],
   "source": [
    "d7"
   ]
  },
  {
   "cell_type": "code",
   "execution_count": 76,
   "id": "df964ca8",
   "metadata": {},
   "outputs": [],
   "source": [
    "# to change the existing value"
   ]
  },
  {
   "cell_type": "code",
   "execution_count": 77,
   "id": "97e599a3",
   "metadata": {},
   "outputs": [],
   "source": [
    "d7[\"key1\"] = \"abhishek\""
   ]
  },
  {
   "cell_type": "code",
   "execution_count": 78,
   "id": "57ba3e46",
   "metadata": {},
   "outputs": [
    {
     "data": {
      "text/plain": [
       "{'key1': 'abhishek', 'key2': 123, 'key3': 'abhi', 'key4': 456}"
      ]
     },
     "execution_count": 78,
     "metadata": {},
     "output_type": "execute_result"
    }
   ],
   "source": [
    "d7"
   ]
  },
  {
   "cell_type": "code",
   "execution_count": 3,
   "id": "c3635248",
   "metadata": {},
   "outputs": [
    {
     "data": {
      "text/plain": [
       "{'name': 'abhi',\n",
       " 'mentor': {'fsds': 'imran', 'fsda': 'anand'},\n",
       " 'email_id': {'imran': 'imran@gmail.com', 'anand': 'anand@gmail.com'}}"
      ]
     },
     "execution_count": 3,
     "metadata": {},
     "output_type": "execute_result"
    }
   ],
   "source": [
    "d9"
   ]
  },
  {
   "cell_type": "code",
   "execution_count": 4,
   "id": "5979afb4",
   "metadata": {},
   "outputs": [
    {
     "data": {
      "text/plain": [
       "'abhi'"
      ]
     },
     "execution_count": 4,
     "metadata": {},
     "output_type": "execute_result"
    }
   ],
   "source": [
    "d9[\"name\"]"
   ]
  },
  {
   "cell_type": "code",
   "execution_count": 5,
   "id": "2c16c577",
   "metadata": {},
   "outputs": [
    {
     "data": {
      "text/plain": [
       "str"
      ]
     },
     "execution_count": 5,
     "metadata": {},
     "output_type": "execute_result"
    }
   ],
   "source": [
    "type(d9[\"name\"])"
   ]
  },
  {
   "cell_type": "code",
   "execution_count": 6,
   "id": "831d4f14",
   "metadata": {},
   "outputs": [
    {
     "data": {
      "text/plain": [
       "dict"
      ]
     },
     "execution_count": 6,
     "metadata": {},
     "output_type": "execute_result"
    }
   ],
   "source": [
    "type(d9[\"mentor\"])"
   ]
  },
  {
   "cell_type": "code",
   "execution_count": 7,
   "id": "64c73d87",
   "metadata": {},
   "outputs": [
    {
     "data": {
      "text/plain": [
       "dict"
      ]
     },
     "execution_count": 7,
     "metadata": {},
     "output_type": "execute_result"
    }
   ],
   "source": [
    "type(d9[\"email_id\"])"
   ]
  },
  {
   "cell_type": "code",
   "execution_count": 9,
   "id": "407099e1",
   "metadata": {},
   "outputs": [
    {
     "data": {
      "text/plain": [
       "dict_values(['abhi', {'fsds': 'imran', 'fsda': 'anand'}, {'imran': 'imran@gmail.com', 'anand': 'anand@gmail.com'}])"
      ]
     },
     "execution_count": 9,
     "metadata": {},
     "output_type": "execute_result"
    }
   ],
   "source": [
    "d9.values()"
   ]
  },
  {
   "cell_type": "code",
   "execution_count": 10,
   "id": "dfeeb456",
   "metadata": {},
   "outputs": [
    {
     "data": {
      "text/plain": [
       "dict_values(['imran', 'anand'])"
      ]
     },
     "execution_count": 10,
     "metadata": {},
     "output_type": "execute_result"
    }
   ],
   "source": [
    "d9[\"mentor\"].values()"
   ]
  },
  {
   "cell_type": "code",
   "execution_count": 11,
   "id": "c7e2cfcf",
   "metadata": {},
   "outputs": [
    {
     "data": {
      "text/plain": [
       "dict_values(['imran@gmail.com', 'anand@gmail.com'])"
      ]
     },
     "execution_count": 11,
     "metadata": {},
     "output_type": "execute_result"
    }
   ],
   "source": [
    "d9[\"email_id\"].values()"
   ]
  },
  {
   "cell_type": "code",
   "execution_count": 12,
   "id": "2019ec85",
   "metadata": {},
   "outputs": [
    {
     "data": {
      "text/plain": [
       "dict_keys(['name', 'mentor', 'email_id'])"
      ]
     },
     "execution_count": 12,
     "metadata": {},
     "output_type": "execute_result"
    }
   ],
   "source": [
    "d9.keys()"
   ]
  },
  {
   "cell_type": "code",
   "execution_count": 13,
   "id": "95ad4373",
   "metadata": {},
   "outputs": [
    {
     "name": "stdout",
     "output_type": "stream",
     "text": [
      "[dict_values(['imran', 'anand']), dict_values(['imran@gmail.com', 'anand@gmail.com'])]\n"
     ]
    }
   ],
   "source": [
    "lis=[]\n",
    "for i in d9.keys():\n",
    "    if type(d9[i])==dict:\n",
    "        lis.append(d9[i].values())\n",
    "print(lis)        \n",
    "        \n",
    "        "
   ]
  },
  {
   "cell_type": "code",
   "execution_count": 14,
   "id": "a692e769",
   "metadata": {},
   "outputs": [
    {
     "name": "stdout",
     "output_type": "stream",
     "text": [
      "[['imran', 'anand'], ['imran@gmail.com', 'anand@gmail.com']]\n"
     ]
    }
   ],
   "source": [
    "lis=[]\n",
    "for i in d9.keys():\n",
    "    if type(d9[i])==dict:\n",
    "        lis.append(list(d9[i].values()))\n",
    "print(lis) "
   ]
  },
  {
   "cell_type": "code",
   "execution_count": null,
   "id": "90785792",
   "metadata": {},
   "outputs": [],
   "source": []
  }
 ],
 "metadata": {
  "kernelspec": {
   "display_name": "Python 3 (ipykernel)",
   "language": "python",
   "name": "python3"
  },
  "language_info": {
   "codemirror_mode": {
    "name": "ipython",
    "version": 3
   },
   "file_extension": ".py",
   "mimetype": "text/x-python",
   "name": "python",
   "nbconvert_exporter": "python",
   "pygments_lexer": "ipython3",
   "version": "3.9.12"
  }
 },
 "nbformat": 4,
 "nbformat_minor": 5
}
